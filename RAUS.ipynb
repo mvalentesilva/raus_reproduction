{
 "cells": [
  {
   "cell_type": "markdown",
   "id": "6a385790-f187-455c-880a-9fdce7d59efb",
   "metadata": {},
   "source": [
    "# Paper reproduction: Communication-Efficient Distributed SGD using Preamble-based Random Access by Choi Available at https://arxiv.org/abs/2105.09427"
   ]
  },
  {
   "cell_type": "markdown",
   "id": "49711d9c-d651-4777-97ff-9ca75e2da4e9",
   "metadata": {},
   "source": [
    "Straighfoward reproduction without classes"
   ]
  },
  {
   "cell_type": "markdown",
   "id": "55654acd-6b18-47dd-b464-444a844c0de5",
   "metadata": {
    "tags": []
   },
   "source": [
    "## Imports and Definitions"
   ]
  },
  {
   "cell_type": "code",
   "execution_count": 37,
   "id": "d41b17c0-9e13-480f-9b64-4852f1d8d4ea",
   "metadata": {},
   "outputs": [],
   "source": [
    "# Import needed libraries\n",
    "import numpy as np # arrays\n",
    "import matplotlib.pyplot as plt #ploting\n",
    "import scipy.optimize as sciopt    # linprog\n",
    "from scipy.optimize import nnls # NNLS SOLVER"
   ]
  },
  {
   "cell_type": "code",
   "execution_count": 38,
   "id": "93029d6f-6df0-43bb-bda5-89a735761a3e",
   "metadata": {},
   "outputs": [],
   "source": [
    "# Definitions\n",
    "K = 10 # Number of datasets distributed over K devices (i.e., 1 data set per device)\n",
    "numBlocks = 10 # amount of blocks in a gradient vector\n",
    "blockLength = 8 # block length\n",
    "L = blockLength*numBlocks # Lenght of w\n",
    "u =  0.01 # step size or learning rate\n",
    "T = 1000 # Number of iterations"
   ]
  },
  {
   "cell_type": "markdown",
   "id": "e745d41c-a3e3-42ba-a915-93c0c0afb361",
   "metadata": {},
   "source": [
    "## Auxiliary functions"
   ]
  },
  {
   "cell_type": "markdown",
   "id": "218d06f9-a80d-4042-a117-8f9467c7dc19",
   "metadata": {},
   "source": [
    "Construct the codebook as a scaled cross polytope:\n",
    "$$ \\cal{C}_{cp} = \\{ \\pm \\textrm{R}e_l : \\{1,...,\\textrm{L}\\}\\} $$\n",
    "with $ R = \\sqrt{L} $, with $L$ being the block length."
   ]
  },
  {
   "cell_type": "code",
   "execution_count": 39,
   "id": "38000037-0fa4-453c-bf7d-cbeaafe24365",
   "metadata": {},
   "outputs": [],
   "source": [
    "def construct_codebook(blockLength):\n",
    "    # Construct the codebook as a scaled cross polytope\n",
    "    R = np.sqrt(blockLength)\n",
    "    codebook = np.concatenate(((np.eye(blockLength)*R),(np.eye(blockLength)*(-R))),axis=0) + 0 # add zero to fix -0.0 issue\n",
    "    return codebook"
   ]
  },
  {
   "cell_type": "code",
   "execution_count": 40,
   "id": "fedd087f-dbc1-444a-a510-c052592790e4",
   "metadata": {},
   "outputs": [],
   "source": [
    "def resolve_quantized_gradient(codebook,norms,cw_indexs):\n",
    "    # resolves the quantized subvectors into one gradient vector\n",
    "    g_resolved = np.array([])\n",
    "    \n",
    "    for idx,norm in enumerate(norms):\n",
    "        \n",
    "        g_resolved = np.concatenate((g_resolved,norm*codebook[idx]),axis=0)\n",
    "    \n",
    "    return g_resolved"
   ]
  },
  {
   "cell_type": "code",
   "execution_count": 41,
   "id": "2226cc7b-4d56-43d7-86ab-854bd40c7ec2",
   "metadata": {},
   "outputs": [],
   "source": [
    "def quantize(codebook,numBlocks,blockLength,gradient):\n",
    "        \n",
    "        codebook = codebook\n",
    "        \n",
    "        norms = np.zeros(numBlocks)\n",
    "        c_idx = np.zeros(numBlocks, int)\n",
    "        \n",
    "        for block in range(numBlocks):\n",
    "            \n",
    "            begin = block*blockLength\n",
    "            end = block*blockLength+blockLength\n",
    "            \n",
    "            v_d = gradient[begin:end]\n",
    "            v_til = (v_d)/np.linalg.norm(v_d)\n",
    "            norms[block] = np.linalg.norm(v_d)\n",
    "\n",
    "            # solving the linear system\n",
    "            M = codebook.shape[0]\n",
    "            A = np.concatenate((codebook.T,np.ones((1,M))),axis=0)\n",
    "            b = np.concatenate((v_til,np.ones(1)),axis=0)\n",
    "            \n",
    "            \n",
    "            a_vec = nnls(A, b)[0] # Using Non-negative Least Squares\n",
    "            ## scipy.optimize.nnls solves the KKT (Karush-Kuhn-Tucker) conditions for the non-negative least squares problem.\n",
    "\n",
    "            c_idx[block] = np.random.choice(M, p=a_vec) # use a_vec as probabilities for choosing the codeword\n",
    "            # print(c_idx[block])\n",
    "            # a_probs[block] = a_vec[c_idx[block]]\n",
    "            \n",
    "        return norms, c_idx # returns the norms and the indexs of the codewords"
   ]
  },
  {
   "cell_type": "markdown",
   "id": "f756ec26-6836-4e88-a0d4-25f8791d08b0",
   "metadata": {},
   "source": [
    "## Testing"
   ]
  },
  {
   "cell_type": "code",
   "execution_count": 43,
   "id": "85bdd105-bef6-4e70-96c2-dc06b0907d3d",
   "metadata": {},
   "outputs": [
    {
     "name": "stdout",
     "output_type": "stream",
     "text": [
      "592.0456928981135\n"
     ]
    }
   ],
   "source": [
    "true_g = np.zeros(L)\n",
    "est_g = np.zeros(L)\n",
    "\n",
    "for k in range(K):\n",
    "    \n",
    "    gradient = np.random.normal(size = L)\n",
    "    codebook = construct_codebook(blockLength)\n",
    "    norms, qidx = quantize(codebook,numBlocks,blockLength,gradient)\n",
    "    grad_resolved = resolve_quantized_gradient(codebook,norms,qidx)\n",
    "    true_g += gradient*(1/K)\n",
    "    est_g += grad_resolved*(1/K)\n",
    "    \n",
    "mse =  np.sum(np.abs(true_g-est_g)**2)\n",
    "    \n",
    "print(mse)    "
   ]
  },
  {
   "cell_type": "code",
   "execution_count": null,
   "id": "a9f2b94d-1169-48a0-8384-3b0d6a8332a9",
   "metadata": {},
   "outputs": [],
   "source": []
  },
  {
   "cell_type": "code",
   "execution_count": null,
   "id": "e935d1c5-445d-4012-849e-a8c5dffc8e64",
   "metadata": {},
   "outputs": [],
   "source": []
  }
 ],
 "metadata": {
  "kernelspec": {
   "display_name": "Python 3 (ipykernel)",
   "language": "python",
   "name": "python3"
  },
  "language_info": {
   "codemirror_mode": {
    "name": "ipython",
    "version": 3
   },
   "file_extension": ".py",
   "mimetype": "text/x-python",
   "name": "python",
   "nbconvert_exporter": "python",
   "pygments_lexer": "ipython3",
   "version": "3.7.9"
  }
 },
 "nbformat": 4,
 "nbformat_minor": 5
}
