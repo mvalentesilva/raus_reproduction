{
 "cells": [
  {
   "cell_type": "markdown",
   "id": "6a385790-f187-455c-880a-9fdce7d59efb",
   "metadata": {},
   "source": [
    "# Paper reproduction: Communication-Efficient Distributed SGD using Preamble-based Random Access by Choi Available at https://arxiv.org/abs/2105.09427"
   ]
  },
  {
   "cell_type": "markdown",
   "id": "49711d9c-d651-4777-97ff-9ca75e2da4e9",
   "metadata": {},
   "source": [
    "Straighfoward reproduction without classes"
   ]
  },
  {
   "cell_type": "markdown",
   "id": "55654acd-6b18-47dd-b464-444a844c0de5",
   "metadata": {
    "tags": []
   },
   "source": [
    "## Imports"
   ]
  },
  {
   "cell_type": "code",
   "execution_count": 1,
   "id": "d41b17c0-9e13-480f-9b64-4852f1d8d4ea",
   "metadata": {},
   "outputs": [],
   "source": [
    "# Import needed libraries\n",
    "import numpy as np # arrays\n",
    "import matplotlib.pyplot as plt #ploting\n",
    "import scipy.optimize as sciopt    # linprog\n",
    "from scipy.optimize import nnls # NNLS SOLVER"
   ]
  },
  {
   "cell_type": "markdown",
   "id": "e745d41c-a3e3-42ba-a915-93c0c0afb361",
   "metadata": {},
   "source": [
    "## Auxiliary functions"
   ]
  },
  {
   "cell_type": "markdown",
   "id": "218d06f9-a80d-4042-a117-8f9467c7dc19",
   "metadata": {},
   "source": [
    "Construct the codebook as a scaled cross polytope:\n",
    "$$ \\cal{C}_{cp} = \\{ \\pm \\textrm{R}e_l : \\{1,...,\\textrm{L}\\}\\} $$\n",
    "with $ R = \\sqrt{L} $, with $L$ being the block length."
   ]
  },
  {
   "cell_type": "code",
   "execution_count": 3,
   "id": "38000037-0fa4-453c-bf7d-cbeaafe24365",
   "metadata": {},
   "outputs": [],
   "source": [
    "def construct_codebook(blockLength):\n",
    "    # Construct the codebook as a scaled cross polytope\n",
    "    R = np.sqrt(blockLength)\n",
    "    codebook = np.concatenate(((np.eye(blockLength)*R),(np.eye(blockLength)*(-R))),axis=0) + 0 # add zero to fix -0.0 issue\n",
    "    return codebook"
   ]
  },
  {
   "cell_type": "code",
   "execution_count": 4,
   "id": "2226cc7b-4d56-43d7-86ab-854bd40c7ec2",
   "metadata": {},
   "outputs": [],
   "source": [
    "def quantize(codebook,numBlocks,blockLength,gradient,Vmax):\n",
    "        \n",
    "        codebook = codebook\n",
    "        \n",
    "        prob = np.zeros(numBlocks)\n",
    "        norms = np.zeros(numBlocks)\n",
    "        c_idx = np.zeros(numBlocks, int)\n",
    "        \n",
    "        for block in range(numBlocks):\n",
    "            \n",
    "            begin = block*blockLength\n",
    "            end = block*blockLength+blockLength\n",
    "            \n",
    "            v_d = gradient[begin:end]\n",
    "            v_til = (v_d)/np.linalg.norm(v_d)\n",
    "            norms[block] = np.linalg.norm(v_d)\n",
    "            \n",
    "            if(norms[block] > Vmax):\n",
    "                \n",
    "                v_d = v_d*(Vmax/norms[block])\n",
    "                norms[block] = Vmax\n",
    "                gradient[begin:end] = v_d\n",
    "\n",
    "            # solving the linear system\n",
    "            M = codebook.shape[0]\n",
    "            A = np.concatenate((codebook.T,np.ones((1,M))),axis=0)\n",
    "            b = np.concatenate((v_til,np.ones(1)),axis=0)\n",
    "            \n",
    "            \n",
    "            a_vec = nnls(A, b)[0] # Using Non-negative Least Squares\n",
    "            ## scipy.optimize.nnls solves the KKT (Karush-Kuhn-Tucker) conditions for the non-negative least squares problem.\n",
    "\n",
    "            # print(np.sum(np.abs(v_til-a_vec@codebook)**2))\n",
    "            # input()\n",
    "            \n",
    "            \n",
    "            c_idx[block] = np.random.choice(M, p=a_vec) # use a_vec as probabilities for choosing the codeword\n",
    "            # print(c_idx[block])\n",
    "            # a_probs[block] = a_vec[c_idx[block]]\n",
    "            prob[block] = norms[block]/Vmax\n",
    "            \n",
    "        return prob, norms, c_idx, gradient # returns the norms and the indexs of the codewords"
   ]
  },
  {
   "cell_type": "code",
   "execution_count": 5,
   "id": "989de27c-64c7-4f61-becb-f69897669848",
   "metadata": {},
   "outputs": [],
   "source": [
    "def RA_mix(prob, qidx, codebook,blockLength, numBlocks):\n",
    "    \n",
    "    grad = np.zeros(L)\n",
    "    for k in range(K):\n",
    "        \n",
    "        for block in range(numBlocks):\n",
    "            \n",
    "            begin = block*blockLength\n",
    "            end = block*blockLength+blockLength\n",
    "            p=0\n",
    "            if np.random.normal() < prob[k,block]:\n",
    "                p = 1\n",
    "            qi = qidx[k,block]\n",
    "            grad[begin:end] += (p+np.random.normal())*codebook[qi]\n",
    "            \n",
    "    \n",
    "    grad = grad/K\n",
    "    \n",
    "    return grad"
   ]
  },
  {
   "cell_type": "code",
   "execution_count": null,
   "id": "9097d56f-b190-4957-879a-acee1a2e7b90",
   "metadata": {},
   "outputs": [],
   "source": [
    "def RA_mix(prob, qidx, codebook,blockLength, numBlocks):\n",
    "    \n",
    "    \n",
    "    noise \n",
    "    grad = np.zeros(L)\n",
    "    for k in range(K):\n",
    "        \n",
    "        for block in range(numBlocks):\n",
    "            \n",
    "            begin = block*blockLength\n",
    "            end = block*blockLength+blockLength\n",
    "            p=0\n",
    "            if np.random.normal() < prob[k,block]:\n",
    "                p = 1\n",
    "            qi = qidx[k,block]\n",
    "            grad[begin:end] += (p+np.random.normal())*codebook[qi]\n",
    "            \n",
    "    \n",
    "    grad = grad/K\n",
    "    \n",
    "    return grad"
   ]
  },
  {
   "cell_type": "markdown",
   "id": "ae685672-0e94-47f4-944f-80cd30398f2b",
   "metadata": {},
   "source": [
    "## Definitions"
   ]
  },
  {
   "cell_type": "code",
   "execution_count": 7,
   "id": "0c7ef126-697d-4600-b183-973cfabb1723",
   "metadata": {},
   "outputs": [],
   "source": [
    "# Definitions\n",
    "K = 10 # Number of datasets distributed over K devices (i.e., 1 data set per device)\n",
    "numBlocks = 10  # amount of blocks in a gradient vector (D subvectors)\n",
    "blockLength = 8 # block length\n",
    "L = blockLength*numBlocks # Lenght of w\n",
    "u =  0.01 # step size or learning rate\n",
    "T = 100 # Number of iterations\n",
    "Vmax = np.sqrt(blockLength)"
   ]
  },
  {
   "cell_type": "markdown",
   "id": "f756ec26-6836-4e88-a0d4-25f8791d08b0",
   "metadata": {},
   "source": [
    "## Testing"
   ]
  },
  {
   "cell_type": "code",
   "execution_count": 17,
   "id": "85bdd105-bef6-4e70-96c2-dc06b0907d3d",
   "metadata": {},
   "outputs": [
    {
     "name": "stdout",
     "output_type": "stream",
     "text": [
      "17.28226930468923\n"
     ]
    }
   ],
   "source": [
    "# %%time\n",
    "mcr = 100\n",
    "mse = 0\n",
    "snr = 10\n",
    "N = 100 # Number of antennas\n",
    "codebook = construct_codebook(blockLength)\n",
    "\n",
    "for mx in range(mcr):\n",
    "    true_g = np.zeros(L)\n",
    "    est_g = np.zeros(L)\n",
    "    gradients = np.random.normal(size = (K,L))\n",
    "    probs = np.zeros((K,numBlocks))\n",
    "    qidx = np.zeros((K,numBlocks),int)\n",
    "    norms_v = np.zeros((K,numBlocks))\n",
    "\n",
    "    for k in range(K):\n",
    "        probs[k,:], norms_v[k,:], qidx[k,:], gradients[k,:] = quantize(codebook,numBlocks,blockLength,gradients[k,:],Vmax)\n",
    "\n",
    "    est_g = RA_mix(probs, qidx, codebook,blockLength, numBlocks)\n",
    "    true_g = np.sum(gradients,axis = 0)/K\n",
    "\n",
    "    mse +=  np.sum(np.abs(true_g-est_g)**2)/mcr\n",
    "    \n",
    "print(mse)"
   ]
  },
  {
   "cell_type": "code",
   "execution_count": null,
   "id": "89340f4f-99d0-45d0-b742-5795f1ec7d6d",
   "metadata": {},
   "outputs": [],
   "source": []
  },
  {
   "cell_type": "code",
   "execution_count": null,
   "id": "c690dc67-6ed0-4230-8544-c0e18158bc38",
   "metadata": {},
   "outputs": [],
   "source": []
  }
 ],
 "metadata": {
  "kernelspec": {
   "display_name": "Python 3 (ipykernel)",
   "language": "python",
   "name": "python3"
  },
  "language_info": {
   "codemirror_mode": {
    "name": "ipython",
    "version": 3
   },
   "file_extension": ".py",
   "mimetype": "text/x-python",
   "name": "python",
   "nbconvert_exporter": "python",
   "pygments_lexer": "ipython3",
   "version": "3.7.9"
  }
 },
 "nbformat": 4,
 "nbformat_minor": 5
}
