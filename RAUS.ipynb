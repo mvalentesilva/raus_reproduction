{
 "cells": [
  {
   "cell_type": "markdown",
   "id": "6a385790-f187-455c-880a-9fdce7d59efb",
   "metadata": {},
   "source": [
    "# Paper reproduction: Communication-Efficient Distributed SGD using Preamble-based Random Access by Choi Available at https://arxiv.org/abs/2105.09427"
   ]
  },
  {
   "cell_type": "markdown",
   "id": "49711d9c-d651-4777-97ff-9ca75e2da4e9",
   "metadata": {},
   "source": [
    "Straighfoward reproduction without classes"
   ]
  },
  {
   "cell_type": "markdown",
   "id": "55654acd-6b18-47dd-b464-444a844c0de5",
   "metadata": {
    "tags": []
   },
   "source": [
    "## Imports"
   ]
  },
  {
   "cell_type": "code",
   "execution_count": 8,
   "id": "d41b17c0-9e13-480f-9b64-4852f1d8d4ea",
   "metadata": {},
   "outputs": [],
   "source": [
    "# Import needed libraries\n",
    "import numpy as np # arrays\n",
    "import matplotlib.pyplot as plt #ploting\n",
    "import scipy.optimize as sciopt    # linprog\n",
    "from scipy.optimize import nnls # NNLS SOLVER"
   ]
  },
  {
   "cell_type": "markdown",
   "id": "e745d41c-a3e3-42ba-a915-93c0c0afb361",
   "metadata": {},
   "source": [
    "## Auxiliary functions"
   ]
  },
  {
   "cell_type": "markdown",
   "id": "218d06f9-a80d-4042-a117-8f9467c7dc19",
   "metadata": {},
   "source": [
    "Construct the codebook as a scaled cross polytope:\n",
    "$$ \\cal{C}_{cp} = \\{ \\pm \\textrm{R}e_l : \\{1,...,\\textrm{L}\\}\\} $$\n",
    "with $ R = \\sqrt{L} $, with $L$ being the block length."
   ]
  },
  {
   "cell_type": "code",
   "execution_count": 9,
   "id": "38000037-0fa4-453c-bf7d-cbeaafe24365",
   "metadata": {},
   "outputs": [],
   "source": [
    "def construct_codebook(blockLength):\n",
    "    # Construct the codebook as a scaled cross polytope\n",
    "    R = np.sqrt(blockLength)\n",
    "    codebook = np.concatenate(((np.eye(blockLength)*R),(np.eye(blockLength)*(-R))),axis=0) + 0 # add zero to fix -0.0 issue\n",
    "    return codebook"
   ]
  },
  {
   "cell_type": "code",
   "execution_count": 10,
   "id": "2226cc7b-4d56-43d7-86ab-854bd40c7ec2",
   "metadata": {},
   "outputs": [],
   "source": [
    "def quantize(codebook,numBlocks,blockLength,gradient,Vmax):\n",
    "        \n",
    "        codebook = codebook\n",
    "        \n",
    "        prob = np.zeros(numBlocks)\n",
    "        norms = np.zeros(numBlocks)\n",
    "        c_idx = np.zeros(numBlocks, int)\n",
    "        \n",
    "        for block in range(numBlocks):\n",
    "            \n",
    "            begin = block*blockLength\n",
    "            end = block*blockLength+blockLength\n",
    "            \n",
    "            v_d = gradient[begin:end]\n",
    "            v_til = (v_d)/np.linalg.norm(v_d)\n",
    "            norms[block] = np.linalg.norm(v_d)\n",
    "            \n",
    "            if(norms[block] > Vmax):\n",
    "                \n",
    "                v_d = v_d*(Vmax/norms[block])\n",
    "                norms[block] = Vmax\n",
    "                gradient[begin:end] = v_d\n",
    "\n",
    "            # solving the linear system\n",
    "            M = codebook.shape[0]\n",
    "            A = np.concatenate((codebook.T,np.ones((1,M))),axis=0)\n",
    "            b = np.concatenate((v_til,np.ones(1)),axis=0)\n",
    "            \n",
    "            \n",
    "            a_vec = nnls(A, b)[0] # Using Non-negative Least Squares\n",
    "            ## scipy.optimize.nnls solves the KKT (Karush-Kuhn-Tucker) conditions for the non-negative least squares problem.\n",
    "\n",
    "            # print(np.sum(np.abs(v_til-a_vec@codebook)**2))\n",
    "            # input()\n",
    "            \n",
    "            \n",
    "            c_idx[block] = np.random.choice(M, p=a_vec) # use a_vec as probabilities for choosing the codeword\n",
    "            # print(c_idx[block])\n",
    "            # a_probs[block] = a_vec[c_idx[block]]\n",
    "            prob[block] = norms[block]/Vmax\n",
    "            \n",
    "        return prob, norms, c_idx, gradient # returns the norms and the indexs of the codewords"
   ]
  },
  {
   "cell_type": "code",
   "execution_count": 11,
   "id": "989de27c-64c7-4f61-becb-f69897669848",
   "metadata": {},
   "outputs": [],
   "source": [
    "def RA_mix(prob, qidx, codebook,blockLength, numBlocks):\n",
    "    \n",
    "    grad = np.zeros(L)\n",
    "    for k in range(K):\n",
    "        \n",
    "        for block in range(numBlocks):\n",
    "            \n",
    "            begin = block*blockLength\n",
    "            end = block*blockLength+blockLength\n",
    "            p=0\n",
    "            if np.random.normal() < prob[k,block]:\n",
    "                p = 1\n",
    "            qi = qidx[k,block]\n",
    "            grad[begin:end] += (p+np.random.normal())*codebook[qi]\n",
    "            \n",
    "    \n",
    "    grad = grad/K\n",
    "    \n",
    "    return grad"
   ]
  },
  {
   "cell_type": "code",
   "execution_count": 12,
   "id": "9097d56f-b190-4957-879a-acee1a2e7b90",
   "metadata": {},
   "outputs": [],
   "source": [
    "def RA_mix(prob, qidx, codebook,blockLength, numBlocks):\n",
    "    \n",
    "    P=1\n",
    "    snr = 10\n",
    "    M = codebook.shape[0]\n",
    "    K = prob.shape[0]\n",
    "    grad = np.zeros(L)\n",
    "    noise = 1/snr\n",
    "    z = np.zeros((blockLength,M)) #zm\n",
    "    N = 100\n",
    "        \n",
    "    for block in range(numBlocks):\n",
    "\n",
    "        bk = np.zeros(K)\n",
    "        for k in range(K):\n",
    "            if np.random.normal() < probs[k,block]:\n",
    "                bk[k] = 1\n",
    "\n",
    "        a = np.zeros(blockLength)\n",
    "\n",
    "        for m in range(M):\n",
    "            Id = np.eye(blockLength)\n",
    "            SigmaM = sum(bk[np.where(qidx==m)[0]]+noise)*Id\n",
    "            # print(SigmaM.shape)\n",
    "            zm = np.sqrt(0.5)*(np.random.multivariate_normal(mean=np.zeros(blockLength),cov=SigmaM)+np.random.multivariate_normal(mean=np.zeros(blockLength),cov=SigmaM)*(1j))\n",
    "            # print(zm.shape)\n",
    "            # print(codebook[m].shape)\n",
    "            a += (np.linalg.norm(zm)**2)*(codebook[m]/N)\n",
    "\n",
    "        begin = block*blockLength\n",
    "        end = block*blockLength+blockLength\n",
    "\n",
    "        grad[begin:end] = a*Vmax\n",
    "    \n",
    "    grad = grad/K\n",
    "    \n",
    "    return grad"
   ]
  },
  {
   "cell_type": "code",
   "execution_count": 263,
   "id": "5612a5be-83c9-46f6-af0f-c1707ad08e76",
   "metadata": {},
   "outputs": [
    {
     "ename": "NameError",
     "evalue": "name 'block' is not defined",
     "output_type": "error",
     "traceback": [
      "\u001b[1;31m---------------------------------------------------------------------------\u001b[0m",
      "\u001b[1;31mNameError\u001b[0m                                 Traceback (most recent call last)",
      "\u001b[1;32m~\\AppData\\Local\\Temp\\ipykernel_23980\\2389056252.py\u001b[0m in \u001b[0;36m<module>\u001b[1;34m\u001b[0m\n\u001b[1;32m----> 1\u001b[1;33m \u001b[0mbegin\u001b[0m \u001b[1;33m=\u001b[0m \u001b[0mblock\u001b[0m\u001b[1;33m*\u001b[0m\u001b[0mblockLength\u001b[0m\u001b[1;33m\u001b[0m\u001b[1;33m\u001b[0m\u001b[0m\n\u001b[0m\u001b[0;32m      2\u001b[0m \u001b[0mend\u001b[0m \u001b[1;33m=\u001b[0m \u001b[0mblock\u001b[0m\u001b[1;33m*\u001b[0m\u001b[0mblockLength\u001b[0m\u001b[1;33m+\u001b[0m\u001b[0mblockLength\u001b[0m\u001b[1;33m\u001b[0m\u001b[1;33m\u001b[0m\u001b[0m\n\u001b[0;32m      3\u001b[0m \u001b[0mbk\u001b[0m\u001b[1;33m=\u001b[0m\u001b[1;36m0\u001b[0m\u001b[1;33m\u001b[0m\u001b[1;33m\u001b[0m\u001b[0m\n\u001b[0;32m      4\u001b[0m \u001b[1;32mif\u001b[0m \u001b[0mnp\u001b[0m\u001b[1;33m.\u001b[0m\u001b[0mrandom\u001b[0m\u001b[1;33m.\u001b[0m\u001b[0mnormal\u001b[0m\u001b[1;33m(\u001b[0m\u001b[1;33m)\u001b[0m \u001b[1;33m<\u001b[0m \u001b[0mprob\u001b[0m\u001b[1;33m[\u001b[0m\u001b[0mk\u001b[0m\u001b[1;33m,\u001b[0m\u001b[0mblock\u001b[0m\u001b[1;33m]\u001b[0m\u001b[1;33m:\u001b[0m\u001b[1;33m\u001b[0m\u001b[1;33m\u001b[0m\u001b[0m\n\u001b[0;32m      5\u001b[0m     \u001b[0mbk\u001b[0m \u001b[1;33m=\u001b[0m \u001b[1;36m1\u001b[0m\u001b[1;33m\u001b[0m\u001b[1;33m\u001b[0m\u001b[0m\n",
      "\u001b[1;31mNameError\u001b[0m: name 'block' is not defined"
     ]
    }
   ],
   "source": [
    "begin = block*blockLength\n",
    "end = block*blockLength+blockLength\n",
    "bk=0\n",
    "if np.random.normal() < prob[k,block]:\n",
    "    bk = 1\n",
    "qi = qidx[k,block]\n",
    "grad[begin:end] += (bk+noise[qi])*codebook[qi]/100"
   ]
  },
  {
   "cell_type": "code",
   "execution_count": 116,
   "id": "01d75f97-587e-4659-952b-c9f7a8686168",
   "metadata": {},
   "outputs": [],
   "source": [
    "bk = np.zeros((probs.shape))\n",
    "for k in range(K):\n",
    "    if np.random.normal() < probs[k]:\n",
    "        bk[k] = 1"
   ]
  },
  {
   "cell_type": "code",
   "execution_count": 139,
   "id": "01bd468e-2f13-44cd-adf1-8465d5633b8c",
   "metadata": {},
   "outputs": [
    {
     "ename": "TypeError",
     "evalue": "'int' object is not iterable",
     "output_type": "error",
     "traceback": [
      "\u001b[1;31m---------------------------------------------------------------------------\u001b[0m",
      "\u001b[1;31mTypeError\u001b[0m                                 Traceback (most recent call last)",
      "\u001b[1;32m~\\AppData\\Local\\Temp\\ipykernel_23980\\1915130812.py\u001b[0m in \u001b[0;36m<module>\u001b[1;34m\u001b[0m\n\u001b[1;32m----> 1\u001b[1;33m \u001b[1;32mfor\u001b[0m \u001b[0mm\u001b[0m \u001b[1;32min\u001b[0m \u001b[0mM\u001b[0m\u001b[1;33m:\u001b[0m\u001b[1;33m\u001b[0m\u001b[1;33m\u001b[0m\u001b[0m\n\u001b[0m\u001b[0;32m      2\u001b[0m     \u001b[0mSigmaM\u001b[0m \u001b[1;33m=\u001b[0m \u001b[0mnp\u001b[0m\u001b[1;33m.\u001b[0m\u001b[0meye\u001b[0m\u001b[1;33m(\u001b[0m\u001b[0mL\u001b[0m\u001b[1;33m)\u001b[0m\u001b[1;33m\u001b[0m\u001b[1;33m\u001b[0m\u001b[0m\n\u001b[0;32m      3\u001b[0m     \u001b[0mbk\u001b[0m\u001b[1;33m[\u001b[0m\u001b[0mnp\u001b[0m\u001b[1;33m.\u001b[0m\u001b[0mwhere\u001b[0m\u001b[1;33m(\u001b[0m\u001b[0mqidx\u001b[0m\u001b[1;33m==\u001b[0m\u001b[0mm\u001b[0m\u001b[1;33m)\u001b[0m\u001b[1;33m[\u001b[0m\u001b[1;36m0\u001b[0m\u001b[1;33m]\u001b[0m\u001b[1;33m]\u001b[0m\u001b[1;33m+\u001b[0m\u001b[0mnoise\u001b[0m\u001b[1;33m\u001b[0m\u001b[1;33m\u001b[0m\u001b[0m\n",
      "\u001b[1;31mTypeError\u001b[0m: 'int' object is not iterable"
     ]
    }
   ],
   "source": [
    "for m in M:\n",
    "    SigmaM = np.eye(L)\n",
    "    bk[np.where(qidx==m)[0]]+noise"
   ]
  },
  {
   "cell_type": "code",
   "execution_count": 210,
   "id": "e3d6d644-9340-456b-b55a-3534de9e18df",
   "metadata": {},
   "outputs": [
    {
     "name": "stdout",
     "output_type": "stream",
     "text": [
      "(8,)\n"
     ]
    }
   ],
   "source": [
    "a = np.zeros(L)\n",
    "N = 100\n",
    "for m in range(M):\n",
    "    Id = np.eye(L)\n",
    "    SigmaM = sum(bk[np.where(qidx==m)[0]]+noise)*Id\n",
    "    zm = np.sqrt(0.5)*(np.random.multivariate_normal(mean=np.zeros(L),cov=SigmaM)+np.random.multivariate_normal(mean=np.zeros(L),cov=SigmaM)*(1j))\n",
    "    a += (np.linalg.norm(zm)**2)*(codebook[m]/N)\n",
    "    \n",
    "a = a/K\n",
    "print(a.shape)"
   ]
  },
  {
   "cell_type": "code",
   "execution_count": 256,
   "id": "d92903f2-93c4-476b-aadc-76643f00cda7",
   "metadata": {},
   "outputs": [
    {
     "name": "stdout",
     "output_type": "stream",
     "text": [
      "0.16793173260138178\n",
      "[3.3]\n"
     ]
    }
   ],
   "source": []
  },
  {
   "cell_type": "code",
   "execution_count": 249,
   "id": "9cd67117-879c-42de-b167-e3e5cd0e165b",
   "metadata": {},
   "outputs": [
    {
     "data": {
      "text/plain": [
       "0.03695591511453661"
      ]
     },
     "execution_count": 249,
     "metadata": {},
     "output_type": "execute_result"
    }
   ],
   "source": [
    "np.sum(np.abs(true_g-a*Vmax)**2)"
   ]
  },
  {
   "cell_type": "code",
   "execution_count": 175,
   "id": "4150ace8-6b06-4d4a-b4bb-017305adddfb",
   "metadata": {},
   "outputs": [
    {
     "data": {
      "text/plain": [
       "1j"
      ]
     },
     "execution_count": 175,
     "metadata": {},
     "output_type": "execute_result"
    }
   ],
   "source": [
    "1j"
   ]
  },
  {
   "cell_type": "code",
   "execution_count": 135,
   "id": "2eeb90b9-390e-4cda-90ae-c0669d58b436",
   "metadata": {},
   "outputs": [],
   "source": [
    "noise=P/snr"
   ]
  },
  {
   "cell_type": "code",
   "execution_count": 163,
   "id": "28ddd56b-f0e3-40f8-9492-689912423818",
   "metadata": {},
   "outputs": [
    {
     "name": "stdout",
     "output_type": "stream",
     "text": [
      "[[ 6.45179644 -1.06762983 -0.43180044  0.57650261 -1.10535614  0.48920949\n",
      "  -0.71387827  0.49479275]\n",
      " [-1.06762983  2.56235012  1.82514393 -0.10426963  0.33615995  1.50592642\n",
      "   1.11219133 -1.50162694]\n",
      " [-0.43180044  1.82514393  2.2096894  -0.64163515  0.49509436  2.03532835\n",
      "   0.58956224 -0.65182044]\n",
      " [ 0.57650261 -0.10426963 -0.64163515  1.8162775  -0.53135178 -0.66324262\n",
      "  -0.99967636 -0.27457026]\n",
      " [-1.10535614  0.33615995  0.49509436 -0.53135178  3.07293123 -1.82791481\n",
      "   2.6263195  -0.53102863]\n",
      " [ 0.48920949  1.50592642  2.03532835 -0.66324262 -1.82791481  5.01290826\n",
      "  -1.0228731  -0.58879478]\n",
      " [-0.71387827  1.11219133  0.58956224 -0.99967636  2.6263195  -1.0228731\n",
      "   4.75314002 -1.36704419]\n",
      " [ 0.49479275 -1.50162694 -0.65182044 -0.27457026 -0.53102863 -0.58879478\n",
      "  -1.36704419  1.3996551 ]]\n",
      "[[3.3 0.  0.  0.  0.  0.  0.  0. ]\n",
      " [0.  3.3 0.  0.  0.  0.  0.  0. ]\n",
      " [0.  0.  3.3 0.  0.  0.  0.  0. ]\n",
      " [0.  0.  0.  3.3 0.  0.  0.  0. ]\n",
      " [0.  0.  0.  0.  3.3 0.  0.  0. ]\n",
      " [0.  0.  0.  0.  0.  3.3 0.  0. ]\n",
      " [0.  0.  0.  0.  0.  0.  3.3 0. ]\n",
      " [0.  0.  0.  0.  0.  0.  0.  3.3]]\n"
     ]
    }
   ],
   "source": [
    "zm = np.random.multivariate_normal(mean=np.zeros(L),cov=SigmaM,size=8)\n",
    "\n",
    "print(np.cov(zm))\n",
    "print(SigmaM)"
   ]
  },
  {
   "cell_type": "code",
   "execution_count": 100,
   "id": "4d1d0e18-a2d8-4220-ab6a-5e237465b236",
   "metadata": {},
   "outputs": [],
   "source": [
    "P=1\n",
    "snr=10\n",
    "n = np.random.normal(0,P/snr,codebook.shape[0])\n"
   ]
  },
  {
   "cell_type": "markdown",
   "id": "ae685672-0e94-47f4-944f-80cd30398f2b",
   "metadata": {},
   "source": [
    "## Definitions"
   ]
  },
  {
   "cell_type": "code",
   "execution_count": 28,
   "id": "0c7ef126-697d-4600-b183-973cfabb1723",
   "metadata": {},
   "outputs": [],
   "source": [
    "# Definitions\n",
    "K = 500 # Number of datasets distributed over K devices (i.e., 1 data set per device)\n",
    "numBlocks = 10  # amount of blocks in a gradient vector (D subvectors)\n",
    "blockLength = 8 # block length\n",
    "L = blockLength*numBlocks # Lenght of w\n",
    "u =  0.01 # step size or learning rate\n",
    "T = 100 # Number of iterations\n",
    "Vmax = np.sqrt(blockLength)*1.5"
   ]
  },
  {
   "cell_type": "markdown",
   "id": "f756ec26-6836-4e88-a0d4-25f8791d08b0",
   "metadata": {},
   "source": [
    "## Testing"
   ]
  },
  {
   "cell_type": "code",
   "execution_count": 29,
   "id": "85bdd105-bef6-4e70-96c2-dc06b0907d3d",
   "metadata": {
    "tags": []
   },
   "outputs": [
    {
     "name": "stdout",
     "output_type": "stream",
     "text": [
      "5.594878496183728 1.69768382855381 500\n"
     ]
    }
   ],
   "source": [
    "# %%time\n",
    "mcr = 100\n",
    "mse = 0\n",
    "mse_teo = 0\n",
    "snr = 10\n",
    "P = 1\n",
    "N_0 = P/snr\n",
    "N = 100 # Number of antennas\n",
    "codebook = construct_codebook(blockLength)\n",
    "\n",
    "for mx in range(mcr):\n",
    "    true_g = np.zeros(L)\n",
    "    est_g = np.zeros(L)\n",
    "    gradients = np.random.normal(size = (K,L))\n",
    "    probs = np.zeros((K,numBlocks))\n",
    "    qidx = np.zeros((K,numBlocks),int)\n",
    "    norms_v = np.zeros((K,numBlocks))\n",
    "\n",
    "    for k in range(K):\n",
    "        probs[k,:], norms_v[k,:], qidx[k,:], gradients[k,:] = quantize(codebook,numBlocks,blockLength,gradients[k,:],Vmax)\n",
    "        # print(norms_v)\n",
    "        # input()\n",
    "    est_g = RA_mix(probs, qidx, codebook,blockLength, numBlocks)\n",
    "    true_g = np.sum(gradients,axis = 0)/K\n",
    "\n",
    "    mse +=  np.sum(np.abs(true_g-est_g)**2)/mcr\n",
    "    mse_teo += (np.sum(np.sum(np.abs(blockLength*Vmax - norms_v)*norms_v))/(K**2))/mcr;\n",
    "    \n",
    "print(mse,mse_teo,K)"
   ]
  },
  {
   "cell_type": "code",
   "execution_count": 304,
   "id": "82a1373e-8095-4c45-b93c-6670d092c859",
   "metadata": {},
   "outputs": [
    {
     "data": {
      "text/plain": [
       "(500, 10)"
      ]
     },
     "execution_count": 304,
     "metadata": {},
     "output_type": "execute_result"
    }
   ],
   "source": [
    "norms_v.shape"
   ]
  },
  {
   "cell_type": "code",
   "execution_count": 93,
   "id": "d3700d44-af34-44bd-8532-2e77726e0182",
   "metadata": {},
   "outputs": [
    {
     "data": {
      "text/plain": [
       "array([[8., 0., 0., 0., 0., 0., 0., 0.],\n",
       "       [0., 8., 0., 0., 0., 0., 0., 0.],\n",
       "       [0., 0., 8., 0., 0., 0., 0., 0.],\n",
       "       [0., 0., 0., 8., 0., 0., 0., 0.],\n",
       "       [0., 0., 0., 0., 8., 0., 0., 0.],\n",
       "       [0., 0., 0., 0., 0., 8., 0., 0.],\n",
       "       [0., 0., 0., 0., 0., 0., 8., 0.],\n",
       "       [0., 0., 0., 0., 0., 0., 0., 8.]])"
      ]
     },
     "execution_count": 93,
     "metadata": {},
     "output_type": "execute_result"
    }
   ],
   "source": [
    "(codebook[0:8].T@codebook[0:8])"
   ]
  },
  {
   "cell_type": "code",
   "execution_count": 92,
   "id": "32f0f74b-7a3b-4105-96e2-820869e8a4d0",
   "metadata": {},
   "outputs": [
    {
     "data": {
      "text/plain": [
       "array([[2.82842712, 0.        , 0.        , 0.        , 0.        ,\n",
       "        0.        , 0.        , 0.        ],\n",
       "       [0.        , 2.82842712, 0.        , 0.        , 0.        ,\n",
       "        0.        , 0.        , 0.        ],\n",
       "       [0.        , 0.        , 2.82842712, 0.        , 0.        ,\n",
       "        0.        , 0.        , 0.        ],\n",
       "       [0.        , 0.        , 0.        , 2.82842712, 0.        ,\n",
       "        0.        , 0.        , 0.        ],\n",
       "       [0.        , 0.        , 0.        , 0.        , 2.82842712,\n",
       "        0.        , 0.        , 0.        ],\n",
       "       [0.        , 0.        , 0.        , 0.        , 0.        ,\n",
       "        2.82842712, 0.        , 0.        ],\n",
       "       [0.        , 0.        , 0.        , 0.        , 0.        ,\n",
       "        0.        , 2.82842712, 0.        ],\n",
       "       [0.        , 0.        , 0.        , 0.        , 0.        ,\n",
       "        0.        , 0.        , 2.82842712]])"
      ]
     },
     "execution_count": 92,
     "metadata": {},
     "output_type": "execute_result"
    }
   ],
   "source": [
    "codebook[0:8]"
   ]
  },
  {
   "cell_type": "code",
   "execution_count": 81,
   "id": "f8402200-1e41-4f87-9308-a2611be1c133",
   "metadata": {},
   "outputs": [
    {
     "data": {
      "text/plain": [
       "array([[16.,  0.,  0.,  0.,  0.,  0.,  0.,  0.],\n",
       "       [ 0., 16.,  0.,  0.,  0.,  0.,  0.,  0.],\n",
       "       [ 0.,  0., 16.,  0.,  0.,  0.,  0.,  0.],\n",
       "       [ 0.,  0.,  0., 16.,  0.,  0.,  0.,  0.],\n",
       "       [ 0.,  0.,  0.,  0., 16.,  0.,  0.,  0.],\n",
       "       [ 0.,  0.,  0.,  0.,  0., 16.,  0.,  0.],\n",
       "       [ 0.,  0.,  0.,  0.,  0.,  0., 16.,  0.],\n",
       "       [ 0.,  0.,  0.,  0.,  0.,  0.,  0., 16.]])"
      ]
     },
     "execution_count": 81,
     "metadata": {},
     "output_type": "execute_result"
    }
   ],
   "source": [
    "np.dot(codebook.T, codebook, out=None)"
   ]
  },
  {
   "cell_type": "code",
   "execution_count": 95,
   "id": "e38246d5-91d4-4104-8f28-c784ae19ed5d",
   "metadata": {},
   "outputs": [
    {
     "data": {
      "text/plain": [
       "2.8284271247461903"
      ]
     },
     "execution_count": 95,
     "metadata": {},
     "output_type": "execute_result"
    }
   ],
   "source": [
    "np.linalg.norm(codebook[9])"
   ]
  },
  {
   "cell_type": "code",
   "execution_count": 97,
   "id": "ed923604-d49b-4ea8-85e8-cb9a3107abb1",
   "metadata": {},
   "outputs": [
    {
     "data": {
      "text/plain": [
       "2.8284271247461903"
      ]
     },
     "execution_count": 97,
     "metadata": {},
     "output_type": "execute_result"
    }
   ],
   "source": [
    "np.sqrt(8)"
   ]
  },
  {
   "cell_type": "code",
   "execution_count": null,
   "id": "1cefd6f4-52b0-44fb-8aea-1e2fc5efc934",
   "metadata": {},
   "outputs": [],
   "source": []
  }
 ],
 "metadata": {
  "kernelspec": {
   "display_name": "Python 3 (ipykernel)",
   "language": "python",
   "name": "python3"
  },
  "language_info": {
   "codemirror_mode": {
    "name": "ipython",
    "version": 3
   },
   "file_extension": ".py",
   "mimetype": "text/x-python",
   "name": "python",
   "nbconvert_exporter": "python",
   "pygments_lexer": "ipython3",
   "version": "3.7.9"
  },
  "toc-autonumbering": true,
  "toc-showmarkdowntxt": true,
  "toc-showtags": false
 },
 "nbformat": 4,
 "nbformat_minor": 5
}
