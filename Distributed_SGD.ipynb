{
 "cells": [
  {
   "cell_type": "markdown",
   "id": "2e248a8d-5503-4ec5-88ca-47be85fe4601",
   "metadata": {
    "tags": []
   },
   "source": [
    "# Paper reproduction: Communication-Efficient Distributed SGD using Preamble-based Random Access by Choi Available at https://arxiv.org/abs/2105.09427"
   ]
  },
  {
   "cell_type": "markdown",
   "id": "b65d141a-a477-4c8a-b70a-726930e27f09",
   "metadata": {},
   "source": [
    "## Imports and Definitions"
   ]
  },
  {
   "cell_type": "code",
   "execution_count": 51,
   "id": "ac08dbc0-c777-48ab-a390-2614bbe86771",
   "metadata": {},
   "outputs": [],
   "source": [
    "# Import needed libraries\n",
    "import numpy as np # arrays\n",
    "import matplotlib.pyplot as plt #ploting\n",
    "import scipy.optimize as sciopt    # linprog\n",
    "from scipy.optimize import nnls # NNLS SOLVER"
   ]
  },
  {
   "cell_type": "code",
   "execution_count": 52,
   "id": "65cb156f-12a1-4905-bd6f-ba377cf29545",
   "metadata": {},
   "outputs": [],
   "source": [
    "# Definitions\n",
    "K = 100 # Number of datasets distributed over K devices (i.e., 1 data set per device)\n",
    "L = 8 # Lenght of w\n",
    "u =  0.01 # step size or learning rate\n",
    "T = 1000 # Number of iterations"
   ]
  },
  {
   "cell_type": "markdown",
   "id": "84e51322-18f4-43df-8131-63a443805070",
   "metadata": {},
   "source": [
    "## Auxiliary functions"
   ]
  },
  {
   "cell_type": "markdown",
   "id": "ac9969d2-7f1d-4855-a99a-1b9cea369729",
   "metadata": {},
   "source": [
    "Construct the codebook as a scaled cross polytope:\n",
    "$$ \\cal{C}_{cp} = \\{ \\pm \\textrm{R}e_l : \\{1,...,\\textrm{L}\\}\\} $$\n",
    "with $ R = \\sqrt{L} $."
   ]
  },
  {
   "cell_type": "code",
   "execution_count": 53,
   "id": "3617ccc6-a872-4d3a-add5-4288a1e69e28",
   "metadata": {},
   "outputs": [],
   "source": [
    "def construct_codebook(L):\n",
    "    # Construct the codebook as a scaled cross polytope\n",
    "    R = np.sqrt(L)\n",
    "    # R= 1 #testing\n",
    "    codebook = np.concatenate(((np.eye(L)*R),(np.eye(L)*(-R))),axis=0)\n",
    "    return codebook"
   ]
  },
  {
   "cell_type": "markdown",
   "id": "66da06b1-2163-42e1-9e09-b504c1d0e7b1",
   "metadata": {
    "tags": []
   },
   "source": [
    "## Class Device"
   ]
  },
  {
   "cell_type": "code",
   "execution_count": 54,
   "id": "84c368ac-58dd-4671-92c3-98be522fb407",
   "metadata": {},
   "outputs": [],
   "source": [
    "class Device:\n",
    "    def __init__(self,L, weights_optimal,codebook):\n",
    "        \n",
    "        self.weights = np.zeros(L) # Initialize device's weights to 0\n",
    "        self.x = np.random.normal(size = (1,L)) # Initialize devices's data set\n",
    "        self.y = self.x@weights_optimal # Initalize y used for the gradient\n",
    "        self.g = np.zeros(L)\n",
    "        self.codebook = codebook\n",
    "        \n",
    "    def setWeights(self,new_weights):\n",
    "        self.weights = new_weights\n",
    "        \n",
    "    def gradient(self):\n",
    "    \n",
    "        # Calculating the Gradient:\n",
    "        # 1. Compute predictions, given the feature matrix X of shape (m,n) and weight vector w of shape (n,1).\n",
    "        #    Predictions should be stored in an array `y_hat` of shape (m,1).\n",
    "        y_hat = self.x@self.weights\n",
    "        # 2. compute MSE loss\n",
    "        m = self.x.shape[0]\n",
    "        MSE = (1/m)*np.sum((self.y-y_hat)**2)\n",
    "        # 3. compute average gradient of loss function\n",
    "        gradient = (-2/m)*self.x.T@(self.y-y_hat)\n",
    "\n",
    "        self.g = gradient\n",
    "        return gradient, MSE\n",
    "    \n",
    "    ### NNLS ###\n",
    "    def quantize(self):\n",
    "        codebook = self.codebook\n",
    "        v_til = (self.g)/np.linalg.norm(self.g)\n",
    "            \n",
    "        # solving the linear system\n",
    "        M = codebook.shape[0]\n",
    "        c = np.ones((1,M))\n",
    "        A = np.concatenate((codebook.T,np.ones((1,M))),axis=0)\n",
    "        b = np.concatenate((v_til,np.ones(1)),axis=0)\n",
    "        \n",
    "        a_vec = nnls(A, b)[0] # Using Non-negative Least Squares\n",
    "        ## scipy.optimize.nnls solves the KKT (Karush-Kuhn-Tucker) conditions for the non-negative least squares problem.\n",
    "        \n",
    "        c_idx = np.random.choice(M, p=a_vec) # use a_vec as probabilities for choosing the codeword\n",
    "        a = a_vec[c_idx]\n",
    "        return a,c_idx # returns the probability(why? maybe remove later) and the index of the codeword"
   ]
  },
  {
   "cell_type": "markdown",
   "id": "9234ab56-71c5-427b-9d6b-0987bd8d76b2",
   "metadata": {
    "tags": []
   },
   "source": [
    "## Class Base Station"
   ]
  },
  {
   "cell_type": "code",
   "execution_count": 55,
   "id": "c5f8e7a4-ec1c-496b-a66a-b74b8936ad3f",
   "metadata": {},
   "outputs": [],
   "source": [
    "class BaseStation:\n",
    "    def __init__(self,L,codebook):\n",
    "        \n",
    "        self.weights = np.zeros(L)\n",
    "        self.codebook = codebook\n",
    "        \n",
    "    def setWeights(self,new_weights):\n",
    "        self.weights = new_weights\n",
    "        \n",
    "        \n",
    "    def gradient_step(self,gradients,step_size):\n",
    "        \n",
    "        k = gradients.shape[0]\n",
    "        avg_gradients = 1/k*np.sum(gradients, axis=0)\n",
    "        \n",
    "        self.weights = self.weights - step_size*avg_gradients\n",
    "        \n",
    "        return self.weights\n",
    "        "
   ]
  },
  {
   "cell_type": "markdown",
   "id": "0f9da87e-947b-4738-87a3-168757dbd5b2",
   "metadata": {},
   "source": [
    "## Training"
   ]
  },
  {
   "cell_type": "code",
   "execution_count": 56,
   "id": "aa601808-2ae4-4fb5-8517-57f0f5ffdf37",
   "metadata": {},
   "outputs": [],
   "source": [
    "w_optimal = np.random.normal(size = L) # initialize w*\n",
    "\n",
    "codebook = construct_codebook(L) # Create codebook\n",
    "\n",
    "devices = [Device(L,w_optimal,codebook) for k in range(K)] # create list with K devices\n",
    "\n",
    "base_station = BaseStation(L,codebook) # create Base Station\n"
   ]
  },
  {
   "cell_type": "code",
   "execution_count": 57,
   "id": "4d1a00ea-39e0-4620-9c8e-9163bd12af13",
   "metadata": {},
   "outputs": [
    {
     "name": "stdout",
     "output_type": "stream",
     "text": [
      "Wall time: 8.9 s\n"
     ]
    }
   ],
   "source": [
    "%%time\n",
    "mse_qnt = np.zeros(T)\n",
    "\n",
    "for t in range(T):\n",
    "    \n",
    "    g_est = []\n",
    "    cw_idx = 0\n",
    "    \n",
    "    for d in devices:\n",
    "        g,mse_d = d.gradient() #calculates gradient\n",
    "        mse_qnt[t] += (1/K)*mse_d #calculates the mse\n",
    "\n",
    "        m, cw_idx = d.quantize() # quantize gradient vectors\n",
    "\n",
    "        v_norm = np.linalg.norm(g) # calc norm\n",
    "        g_qnt = v_norm*codebook[cw_idx] # resolved quantized vector (ps: this is done at the base station move it there later)\n",
    "        g_est.append(g_qnt) # save quantized vectors\n",
    "\n",
    "    g_est = np.array(g_est) #to numpy array\n",
    "    \n",
    "    weight_update = base_station.gradient_step(g_est,u) # sgd step\n",
    "     \n",
    "    for d in devices:\n",
    "        d.setWeights(weight_update) # update w at devices\n"
   ]
  },
  {
   "cell_type": "code",
   "execution_count": 58,
   "id": "ce152c00-deeb-4f11-8658-05cb9fa2535c",
   "metadata": {},
   "outputs": [],
   "source": [
    "# %%time\n",
    "mse = np.zeros(T)\n",
    "\n",
    "for t in range(T):\n",
    "    gradients = []\n",
    "    \n",
    "    for d in devices:\n",
    "        g,mse_d = d.gradient() #calculates gradient\n",
    "        mse[t] += (1/K)*mse_d #calculates the mse\n",
    "        gradients.append(g) # save gradients\n",
    "\n",
    "    gradients = np.array(gradients)#to numpy array\n",
    "    \n",
    "    weight_update = base_station.gradient_step(gradients,u) # sgd step\n",
    "     \n",
    "    for d in devices:\n",
    "        d.setWeights(weight_update) # update w at devices"
   ]
  },
  {
   "cell_type": "markdown",
   "id": "4f16f179-9850-49ce-9999-a57a59a0ae1e",
   "metadata": {},
   "source": [
    "## Ploting"
   ]
  },
  {
   "cell_type": "code",
   "execution_count": 59,
   "id": "be0be199-4d61-47ad-83d5-544bdf1be468",
   "metadata": {},
   "outputs": [
    {
     "data": {
      "image/png": "[encoded data removed]",
      "text/plain": [
       "<Figure size 900x600 with 1 Axes>"
      ]
     },
     "metadata": {
      "needs_background": "light"
     },
     "output_type": "display_data"
    }
   ],
   "source": [
    "plt.figure(1, dpi = 150)\n",
    "plt.xticks(np.linspace(0, T, 11))\n",
    "# plt.ylim(10**-12, 10**2)\n",
    "plt.xlim(0, T)\n",
    "plt.grid(True, which = 'both', ls='-')\n",
    "plt.semilogy(range(T), mse, label = 'GD')\n",
    "plt.semilogy(range(T), mse_qnt, label = 'GD Quantized')\n",
    "\n",
    "plt.xlabel('Iteration, t')\n",
    "plt.ylabel('MSE')\n",
    "plt.legend()\n",
    "\n",
    "plt.show()"
   ]
  },
  {
   "cell_type": "code",
   "execution_count": null,
   "id": "eb299a1e-a524-4fc9-876e-940af97b4ba2",
   "metadata": {},
   "outputs": [],
   "source": []
  }
 ],
 "metadata": {
  "kernelspec": {
   "display_name": "Python 3 (ipykernel)",
   "language": "python",
   "name": "python3"
  },
  "language_info": {
   "codemirror_mode": {
    "name": "ipython",
    "version": 3
   },
   "file_extension": ".py",
   "mimetype": "text/x-python",
   "name": "python",
   "nbconvert_exporter": "python",
   "pygments_lexer": "ipython3",
   "version": "3.7.9"
  }
 },
 "nbformat": 4,
 "nbformat_minor": 5
}
